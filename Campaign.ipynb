{
 "cells": [
  {
   "cell_type": "code",
   "execution_count": 191,
   "metadata": {},
   "outputs": [],
   "source": [
    "#Importing necessary libraries\n",
    "\n",
    "import pandas as pd\n",
    "import numpy as np\n",
    "import matplotlib.pyplot as plt\n",
    "import seaborn as sns\n",
    "%matplotlib inline\n"
   ]
  },
  {
   "cell_type": "code",
   "execution_count": 192,
   "metadata": {},
   "outputs": [
    {
     "data": {
      "text/html": [
       "<div>\n",
       "<style scoped>\n",
       "    .dataframe tbody tr th:only-of-type {\n",
       "        vertical-align: middle;\n",
       "    }\n",
       "\n",
       "    .dataframe tbody tr th {\n",
       "        vertical-align: top;\n",
       "    }\n",
       "\n",
       "    .dataframe thead th {\n",
       "        text-align: right;\n",
       "    }\n",
       "</style>\n",
       "<table border=\"1\" class=\"dataframe\">\n",
       "  <thead>\n",
       "    <tr style=\"text-align: right;\">\n",
       "      <th></th>\n",
       "      <th>ID</th>\n",
       "      <th>Product Category</th>\n",
       "      <th>Product Name</th>\n",
       "      <th>Sale Date</th>\n",
       "      <th>Sales ($)</th>\n",
       "    </tr>\n",
       "  </thead>\n",
       "  <tbody>\n",
       "    <tr>\n",
       "      <th>0</th>\n",
       "      <td>123456</td>\n",
       "      <td>A</td>\n",
       "      <td>XYZ</td>\n",
       "      <td>2012-03-06 00:00:00</td>\n",
       "      <td>1080</td>\n",
       "    </tr>\n",
       "    <tr>\n",
       "      <th>1</th>\n",
       "      <td>234567</td>\n",
       "      <td>B</td>\n",
       "      <td>SAR</td>\n",
       "      <td>2012-03-07 00:00:00</td>\n",
       "      <td>298</td>\n",
       "    </tr>\n",
       "    <tr>\n",
       "      <th>2</th>\n",
       "      <td>345678</td>\n",
       "      <td>C</td>\n",
       "      <td>XYZ</td>\n",
       "      <td>2012-03-09 00:00:00</td>\n",
       "      <td>987</td>\n",
       "    </tr>\n",
       "    <tr>\n",
       "      <th>3</th>\n",
       "      <td>456789</td>\n",
       "      <td>A</td>\n",
       "      <td>XYZ</td>\n",
       "      <td>2012-03-08 00:00:00</td>\n",
       "      <td>565</td>\n",
       "    </tr>\n",
       "    <tr>\n",
       "      <th>4</th>\n",
       "      <td>567900</td>\n",
       "      <td>B</td>\n",
       "      <td>SAR</td>\n",
       "      <td>2012-03-09 00:00:00</td>\n",
       "      <td>1209</td>\n",
       "    </tr>\n",
       "    <tr>\n",
       "      <th>5</th>\n",
       "      <td>679011</td>\n",
       "      <td>C</td>\n",
       "      <td>XYZ</td>\n",
       "      <td>2012-03-11 00:00:00</td>\n",
       "      <td>985.3</td>\n",
       "    </tr>\n",
       "    <tr>\n",
       "      <th>6</th>\n",
       "      <td>790122</td>\n",
       "      <td>A</td>\n",
       "      <td>XYZ</td>\n",
       "      <td>2012-03-10 00:00:00</td>\n",
       "      <td>1037.8</td>\n",
       "    </tr>\n",
       "    <tr>\n",
       "      <th>7</th>\n",
       "      <td>901233</td>\n",
       "      <td>B</td>\n",
       "      <td>SAR</td>\n",
       "      <td>2012-03-11 00:00:00</td>\n",
       "      <td>1090.3</td>\n",
       "    </tr>\n",
       "    <tr>\n",
       "      <th>8</th>\n",
       "      <td>101234</td>\n",
       "      <td>A</td>\n",
       "      <td>XYZ</td>\n",
       "      <td>2012-03-13 00:00:00</td>\n",
       "      <td>1142.8</td>\n",
       "    </tr>\n",
       "    <tr>\n",
       "      <th>9</th>\n",
       "      <td>NaN</td>\n",
       "      <td>NaN</td>\n",
       "      <td>NaN</td>\n",
       "      <td>NaN</td>\n",
       "      <td>NaN</td>\n",
       "    </tr>\n",
       "    <tr>\n",
       "      <th>10</th>\n",
       "      <td>NaN</td>\n",
       "      <td>NaN</td>\n",
       "      <td>NaN</td>\n",
       "      <td>NaN</td>\n",
       "      <td>NaN</td>\n",
       "    </tr>\n",
       "    <tr>\n",
       "      <th>11</th>\n",
       "      <td>Sales After campaign</td>\n",
       "      <td>NaN</td>\n",
       "      <td>NaN</td>\n",
       "      <td>NaN</td>\n",
       "      <td>NaN</td>\n",
       "    </tr>\n",
       "    <tr>\n",
       "      <th>12</th>\n",
       "      <td>NaN</td>\n",
       "      <td>NaN</td>\n",
       "      <td>NaN</td>\n",
       "      <td>NaN</td>\n",
       "      <td>NaN</td>\n",
       "    </tr>\n",
       "    <tr>\n",
       "      <th>13</th>\n",
       "      <td>ID</td>\n",
       "      <td>Product Category</td>\n",
       "      <td>Product Name</td>\n",
       "      <td>Sale Date</td>\n",
       "      <td>Sales ($)</td>\n",
       "    </tr>\n",
       "    <tr>\n",
       "      <th>14</th>\n",
       "      <td>123456</td>\n",
       "      <td>A</td>\n",
       "      <td>XYZ</td>\n",
       "      <td>2012-03-26 00:00:00</td>\n",
       "      <td>1169</td>\n",
       "    </tr>\n",
       "    <tr>\n",
       "      <th>15</th>\n",
       "      <td>234567</td>\n",
       "      <td>B</td>\n",
       "      <td>SAR</td>\n",
       "      <td>2012-03-27 00:00:00</td>\n",
       "      <td>398</td>\n",
       "    </tr>\n",
       "    <tr>\n",
       "      <th>16</th>\n",
       "      <td>345678</td>\n",
       "      <td>C</td>\n",
       "      <td>XYZ</td>\n",
       "      <td>2012-03-29 00:00:00</td>\n",
       "      <td>887</td>\n",
       "    </tr>\n",
       "    <tr>\n",
       "      <th>17</th>\n",
       "      <td>456789</td>\n",
       "      <td>A</td>\n",
       "      <td>XYZ</td>\n",
       "      <td>2012-03-28 00:00:00</td>\n",
       "      <td>654</td>\n",
       "    </tr>\n",
       "    <tr>\n",
       "      <th>18</th>\n",
       "      <td>567900</td>\n",
       "      <td>B</td>\n",
       "      <td>SAR</td>\n",
       "      <td>2012-03-29 00:00:00</td>\n",
       "      <td>1309</td>\n",
       "    </tr>\n",
       "    <tr>\n",
       "      <th>19</th>\n",
       "      <td>679011</td>\n",
       "      <td>C</td>\n",
       "      <td>XYZ</td>\n",
       "      <td>2012-03-31 00:00:00</td>\n",
       "      <td>885.3</td>\n",
       "    </tr>\n",
       "    <tr>\n",
       "      <th>20</th>\n",
       "      <td>790122</td>\n",
       "      <td>A</td>\n",
       "      <td>XYZ</td>\n",
       "      <td>2012-03-30 00:00:00</td>\n",
       "      <td>1126.8</td>\n",
       "    </tr>\n",
       "    <tr>\n",
       "      <th>21</th>\n",
       "      <td>901233</td>\n",
       "      <td>B</td>\n",
       "      <td>SAR</td>\n",
       "      <td>2012-03-31 00:00:00</td>\n",
       "      <td>1190.3</td>\n",
       "    </tr>\n",
       "    <tr>\n",
       "      <th>22</th>\n",
       "      <td>101234</td>\n",
       "      <td>A</td>\n",
       "      <td>XYZ</td>\n",
       "      <td>2012-04-02 00:00:00</td>\n",
       "      <td>1042.8</td>\n",
       "    </tr>\n",
       "  </tbody>\n",
       "</table>\n",
       "</div>"
      ],
      "text/plain": [
       "                      ID  Product Category  Product Name            Sale Date  \\\n",
       "0                 123456                 A           XYZ  2012-03-06 00:00:00   \n",
       "1                 234567                 B           SAR  2012-03-07 00:00:00   \n",
       "2                 345678                 C           XYZ  2012-03-09 00:00:00   \n",
       "3                 456789                 A           XYZ  2012-03-08 00:00:00   \n",
       "4                 567900                 B           SAR  2012-03-09 00:00:00   \n",
       "5                 679011                 C           XYZ  2012-03-11 00:00:00   \n",
       "6                 790122                 A           XYZ  2012-03-10 00:00:00   \n",
       "7                 901233                 B           SAR  2012-03-11 00:00:00   \n",
       "8                 101234                 A           XYZ  2012-03-13 00:00:00   \n",
       "9                    NaN               NaN           NaN                  NaN   \n",
       "10                   NaN               NaN           NaN                  NaN   \n",
       "11  Sales After campaign               NaN           NaN                  NaN   \n",
       "12                   NaN               NaN           NaN                  NaN   \n",
       "13                    ID  Product Category  Product Name            Sale Date   \n",
       "14                123456                 A           XYZ  2012-03-26 00:00:00   \n",
       "15                234567                 B           SAR  2012-03-27 00:00:00   \n",
       "16                345678                 C           XYZ  2012-03-29 00:00:00   \n",
       "17                456789                 A           XYZ  2012-03-28 00:00:00   \n",
       "18                567900                 B           SAR  2012-03-29 00:00:00   \n",
       "19                679011                 C           XYZ  2012-03-31 00:00:00   \n",
       "20                790122                 A           XYZ  2012-03-30 00:00:00   \n",
       "21                901233                 B           SAR  2012-03-31 00:00:00   \n",
       "22                101234                 A           XYZ  2012-04-02 00:00:00   \n",
       "\n",
       "    Sales ($)  \n",
       "0        1080  \n",
       "1         298  \n",
       "2         987  \n",
       "3         565  \n",
       "4        1209  \n",
       "5       985.3  \n",
       "6      1037.8  \n",
       "7      1090.3  \n",
       "8      1142.8  \n",
       "9         NaN  \n",
       "10        NaN  \n",
       "11        NaN  \n",
       "12        NaN  \n",
       "13  Sales ($)  \n",
       "14       1169  \n",
       "15        398  \n",
       "16        887  \n",
       "17        654  \n",
       "18       1309  \n",
       "19      885.3  \n",
       "20     1126.8  \n",
       "21     1190.3  \n",
       "22     1042.8  "
      ]
     },
     "execution_count": 192,
     "metadata": {},
     "output_type": "execute_result"
    }
   ],
   "source": [
    "# Reading the data\n",
    "\n",
    "df = pd.read_excel(\"CampaignData.xlsx\", header = 1)\n",
    "df"
   ]
  },
  {
   "cell_type": "markdown",
   "metadata": {},
   "source": [
    "Seperating the data before and after sales campaign"
   ]
  },
  {
   "cell_type": "code",
   "execution_count": 193,
   "metadata": {},
   "outputs": [],
   "source": [
    "sales_before = df.head(9)"
   ]
  },
  {
   "cell_type": "code",
   "execution_count": 194,
   "metadata": {},
   "outputs": [],
   "source": [
    "sales_after = df.loc[14:22]"
   ]
  },
  {
   "cell_type": "code",
   "execution_count": 195,
   "metadata": {},
   "outputs": [
    {
     "data": {
      "text/html": [
       "<div>\n",
       "<style scoped>\n",
       "    .dataframe tbody tr th:only-of-type {\n",
       "        vertical-align: middle;\n",
       "    }\n",
       "\n",
       "    .dataframe tbody tr th {\n",
       "        vertical-align: top;\n",
       "    }\n",
       "\n",
       "    .dataframe thead th {\n",
       "        text-align: right;\n",
       "    }\n",
       "</style>\n",
       "<table border=\"1\" class=\"dataframe\">\n",
       "  <thead>\n",
       "    <tr style=\"text-align: right;\">\n",
       "      <th></th>\n",
       "      <th>ID</th>\n",
       "      <th>Product Category</th>\n",
       "      <th>Product Name</th>\n",
       "      <th>Sale Date</th>\n",
       "      <th>Sales ($)</th>\n",
       "    </tr>\n",
       "  </thead>\n",
       "  <tbody>\n",
       "    <tr>\n",
       "      <th>0</th>\n",
       "      <td>123456</td>\n",
       "      <td>A</td>\n",
       "      <td>XYZ</td>\n",
       "      <td>2012-03-06 00:00:00</td>\n",
       "      <td>1080</td>\n",
       "    </tr>\n",
       "    <tr>\n",
       "      <th>1</th>\n",
       "      <td>234567</td>\n",
       "      <td>B</td>\n",
       "      <td>SAR</td>\n",
       "      <td>2012-03-07 00:00:00</td>\n",
       "      <td>298</td>\n",
       "    </tr>\n",
       "    <tr>\n",
       "      <th>2</th>\n",
       "      <td>345678</td>\n",
       "      <td>C</td>\n",
       "      <td>XYZ</td>\n",
       "      <td>2012-03-09 00:00:00</td>\n",
       "      <td>987</td>\n",
       "    </tr>\n",
       "    <tr>\n",
       "      <th>3</th>\n",
       "      <td>456789</td>\n",
       "      <td>A</td>\n",
       "      <td>XYZ</td>\n",
       "      <td>2012-03-08 00:00:00</td>\n",
       "      <td>565</td>\n",
       "    </tr>\n",
       "    <tr>\n",
       "      <th>4</th>\n",
       "      <td>567900</td>\n",
       "      <td>B</td>\n",
       "      <td>SAR</td>\n",
       "      <td>2012-03-09 00:00:00</td>\n",
       "      <td>1209</td>\n",
       "    </tr>\n",
       "    <tr>\n",
       "      <th>5</th>\n",
       "      <td>679011</td>\n",
       "      <td>C</td>\n",
       "      <td>XYZ</td>\n",
       "      <td>2012-03-11 00:00:00</td>\n",
       "      <td>985.3</td>\n",
       "    </tr>\n",
       "    <tr>\n",
       "      <th>6</th>\n",
       "      <td>790122</td>\n",
       "      <td>A</td>\n",
       "      <td>XYZ</td>\n",
       "      <td>2012-03-10 00:00:00</td>\n",
       "      <td>1037.8</td>\n",
       "    </tr>\n",
       "    <tr>\n",
       "      <th>7</th>\n",
       "      <td>901233</td>\n",
       "      <td>B</td>\n",
       "      <td>SAR</td>\n",
       "      <td>2012-03-11 00:00:00</td>\n",
       "      <td>1090.3</td>\n",
       "    </tr>\n",
       "    <tr>\n",
       "      <th>8</th>\n",
       "      <td>101234</td>\n",
       "      <td>A</td>\n",
       "      <td>XYZ</td>\n",
       "      <td>2012-03-13 00:00:00</td>\n",
       "      <td>1142.8</td>\n",
       "    </tr>\n",
       "  </tbody>\n",
       "</table>\n",
       "</div>"
      ],
      "text/plain": [
       "       ID Product Category Product Name            Sale Date Sales ($)\n",
       "0  123456                A          XYZ  2012-03-06 00:00:00      1080\n",
       "1  234567                B          SAR  2012-03-07 00:00:00       298\n",
       "2  345678                C          XYZ  2012-03-09 00:00:00       987\n",
       "3  456789                A          XYZ  2012-03-08 00:00:00       565\n",
       "4  567900                B          SAR  2012-03-09 00:00:00      1209\n",
       "5  679011                C          XYZ  2012-03-11 00:00:00     985.3\n",
       "6  790122                A          XYZ  2012-03-10 00:00:00    1037.8\n",
       "7  901233                B          SAR  2012-03-11 00:00:00    1090.3\n",
       "8  101234                A          XYZ  2012-03-13 00:00:00    1142.8"
      ]
     },
     "execution_count": 195,
     "metadata": {},
     "output_type": "execute_result"
    }
   ],
   "source": [
    "sales_before"
   ]
  },
  {
   "cell_type": "code",
   "execution_count": 196,
   "metadata": {},
   "outputs": [],
   "source": [
    "# Renaming the columns names\n",
    "\n",
    "sales_before.rename(columns = {'Product Category':'Product_Category', 'Product Name': 'Product_Name', 'Sale Date' : 'Sale_Date'}, inplace = True) \n",
    "\n",
    "sales_after.rename(columns = {'Product Category':'Product_Category', 'Product Name': 'Product_Name', 'Sale Date' : 'Sale_Date'}, inplace = True) \n"
   ]
  },
  {
   "cell_type": "code",
   "execution_count": 197,
   "metadata": {},
   "outputs": [
    {
     "data": {
      "text/plain": [
       "ID                  object\n",
       "Product_Category    object\n",
       "Product_Name        object\n",
       "Sale_Date           object\n",
       "Sales ($)           object\n",
       "dtype: object"
      ]
     },
     "execution_count": 197,
     "metadata": {},
     "output_type": "execute_result"
    }
   ],
   "source": [
    "sales_before.dtypes"
   ]
  },
  {
   "cell_type": "code",
   "execution_count": 198,
   "metadata": {},
   "outputs": [
    {
     "name": "stderr",
     "output_type": "stream",
     "text": [
      "C:\\Users\\Dhilip\\Anaconda3\\lib\\site-packages\\ipykernel_launcher.py:3: SettingWithCopyWarning: \n",
      "A value is trying to be set on a copy of a slice from a DataFrame.\n",
      "Try using .loc[row_indexer,col_indexer] = value instead\n",
      "\n",
      "See the caveats in the documentation: http://pandas.pydata.org/pandas-docs/stable/user_guide/indexing.html#returning-a-view-versus-a-copy\n",
      "  This is separate from the ipykernel package so we can avoid doing imports until\n",
      "C:\\Users\\Dhilip\\Anaconda3\\lib\\site-packages\\ipykernel_launcher.py:5: SettingWithCopyWarning: \n",
      "A value is trying to be set on a copy of a slice from a DataFrame.\n",
      "Try using .loc[row_indexer,col_indexer] = value instead\n",
      "\n",
      "See the caveats in the documentation: http://pandas.pydata.org/pandas-docs/stable/user_guide/indexing.html#returning-a-view-versus-a-copy\n",
      "  \"\"\"\n"
     ]
    }
   ],
   "source": [
    "# Changing the Sale date into date time \n",
    "\n",
    "sales_before['Sale_Date'] = pd.to_datetime(sales_before.Sale_Date, format = '%d-%m-%Y')\n",
    "\n",
    "sales_after['Sale_Date'] = pd.to_datetime(sales_after.Sale_Date, format = '%d-%m-%Y')\n"
   ]
  },
  {
   "cell_type": "code",
   "execution_count": 199,
   "metadata": {},
   "outputs": [
    {
     "name": "stderr",
     "output_type": "stream",
     "text": [
      "C:\\Users\\Dhilip\\Anaconda3\\lib\\site-packages\\ipykernel_launcher.py:3: SettingWithCopyWarning: \n",
      "A value is trying to be set on a copy of a slice from a DataFrame.\n",
      "Try using .loc[row_indexer,col_indexer] = value instead\n",
      "\n",
      "See the caveats in the documentation: http://pandas.pydata.org/pandas-docs/stable/user_guide/indexing.html#returning-a-view-versus-a-copy\n",
      "  This is separate from the ipykernel package so we can avoid doing imports until\n",
      "C:\\Users\\Dhilip\\Anaconda3\\lib\\site-packages\\ipykernel_launcher.py:4: SettingWithCopyWarning: \n",
      "A value is trying to be set on a copy of a slice from a DataFrame.\n",
      "Try using .loc[row_indexer,col_indexer] = value instead\n",
      "\n",
      "See the caveats in the documentation: http://pandas.pydata.org/pandas-docs/stable/user_guide/indexing.html#returning-a-view-versus-a-copy\n",
      "  after removing the cwd from sys.path.\n",
      "C:\\Users\\Dhilip\\Anaconda3\\lib\\site-packages\\ipykernel_launcher.py:5: SettingWithCopyWarning: \n",
      "A value is trying to be set on a copy of a slice from a DataFrame.\n",
      "Try using .loc[row_indexer,col_indexer] = value instead\n",
      "\n",
      "See the caveats in the documentation: http://pandas.pydata.org/pandas-docs/stable/user_guide/indexing.html#returning-a-view-versus-a-copy\n",
      "  \"\"\"\n",
      "C:\\Users\\Dhilip\\Anaconda3\\lib\\site-packages\\ipykernel_launcher.py:6: SettingWithCopyWarning: \n",
      "A value is trying to be set on a copy of a slice from a DataFrame.\n",
      "Try using .loc[row_indexer,col_indexer] = value instead\n",
      "\n",
      "See the caveats in the documentation: http://pandas.pydata.org/pandas-docs/stable/user_guide/indexing.html#returning-a-view-versus-a-copy\n",
      "  \n"
     ]
    }
   ],
   "source": [
    "# Converting the ID, Sales column into Integer\n",
    "\n",
    "sales_before['Sales ($)'] = sales_before['Sales ($)'].astype(int)\n",
    "sales_after['Sales ($)'] = sales_after['Sales ($)'].astype(int)\n",
    "sales_before['Sales ($)'] = sales_before['Sales ($)'].astype(int)\n",
    "sales_after['Sales ($)'] = sales_after['Sales ($)'].astype(int)"
   ]
  },
  {
   "cell_type": "code",
   "execution_count": 200,
   "metadata": {},
   "outputs": [
    {
     "data": {
      "text/plain": [
       "ID                          object\n",
       "Product_Category            object\n",
       "Product_Name                object\n",
       "Sale_Date           datetime64[ns]\n",
       "Sales ($)                    int32\n",
       "dtype: object"
      ]
     },
     "execution_count": 200,
     "metadata": {},
     "output_type": "execute_result"
    }
   ],
   "source": [
    "sales_after.dtypes"
   ]
  },
  {
   "cell_type": "code",
   "execution_count": 201,
   "metadata": {},
   "outputs": [
    {
     "data": {
      "text/html": [
       "<div>\n",
       "<style scoped>\n",
       "    .dataframe tbody tr th:only-of-type {\n",
       "        vertical-align: middle;\n",
       "    }\n",
       "\n",
       "    .dataframe tbody tr th {\n",
       "        vertical-align: top;\n",
       "    }\n",
       "\n",
       "    .dataframe thead th {\n",
       "        text-align: right;\n",
       "    }\n",
       "</style>\n",
       "<table border=\"1\" class=\"dataframe\">\n",
       "  <thead>\n",
       "    <tr style=\"text-align: right;\">\n",
       "      <th></th>\n",
       "      <th>ID</th>\n",
       "      <th>Product_Category</th>\n",
       "      <th>Product_Name</th>\n",
       "      <th>Sale_Date</th>\n",
       "      <th>Sales ($)</th>\n",
       "    </tr>\n",
       "  </thead>\n",
       "  <tbody>\n",
       "    <tr>\n",
       "      <th>0</th>\n",
       "      <td>123456</td>\n",
       "      <td>A</td>\n",
       "      <td>XYZ</td>\n",
       "      <td>2012-03-06</td>\n",
       "      <td>1080</td>\n",
       "    </tr>\n",
       "    <tr>\n",
       "      <th>1</th>\n",
       "      <td>234567</td>\n",
       "      <td>B</td>\n",
       "      <td>SAR</td>\n",
       "      <td>2012-03-07</td>\n",
       "      <td>298</td>\n",
       "    </tr>\n",
       "    <tr>\n",
       "      <th>2</th>\n",
       "      <td>345678</td>\n",
       "      <td>C</td>\n",
       "      <td>XYZ</td>\n",
       "      <td>2012-03-09</td>\n",
       "      <td>987</td>\n",
       "    </tr>\n",
       "    <tr>\n",
       "      <th>3</th>\n",
       "      <td>456789</td>\n",
       "      <td>A</td>\n",
       "      <td>XYZ</td>\n",
       "      <td>2012-03-08</td>\n",
       "      <td>565</td>\n",
       "    </tr>\n",
       "    <tr>\n",
       "      <th>4</th>\n",
       "      <td>567900</td>\n",
       "      <td>B</td>\n",
       "      <td>SAR</td>\n",
       "      <td>2012-03-09</td>\n",
       "      <td>1209</td>\n",
       "    </tr>\n",
       "    <tr>\n",
       "      <th>5</th>\n",
       "      <td>679011</td>\n",
       "      <td>C</td>\n",
       "      <td>XYZ</td>\n",
       "      <td>2012-03-11</td>\n",
       "      <td>985</td>\n",
       "    </tr>\n",
       "    <tr>\n",
       "      <th>6</th>\n",
       "      <td>790122</td>\n",
       "      <td>A</td>\n",
       "      <td>XYZ</td>\n",
       "      <td>2012-03-10</td>\n",
       "      <td>1037</td>\n",
       "    </tr>\n",
       "    <tr>\n",
       "      <th>7</th>\n",
       "      <td>901233</td>\n",
       "      <td>B</td>\n",
       "      <td>SAR</td>\n",
       "      <td>2012-03-11</td>\n",
       "      <td>1090</td>\n",
       "    </tr>\n",
       "    <tr>\n",
       "      <th>8</th>\n",
       "      <td>101234</td>\n",
       "      <td>A</td>\n",
       "      <td>XYZ</td>\n",
       "      <td>2012-03-13</td>\n",
       "      <td>1142</td>\n",
       "    </tr>\n",
       "  </tbody>\n",
       "</table>\n",
       "</div>"
      ],
      "text/plain": [
       "       ID Product_Category Product_Name  Sale_Date  Sales ($)\n",
       "0  123456                A          XYZ 2012-03-06       1080\n",
       "1  234567                B          SAR 2012-03-07        298\n",
       "2  345678                C          XYZ 2012-03-09        987\n",
       "3  456789                A          XYZ 2012-03-08        565\n",
       "4  567900                B          SAR 2012-03-09       1209\n",
       "5  679011                C          XYZ 2012-03-11        985\n",
       "6  790122                A          XYZ 2012-03-10       1037\n",
       "7  901233                B          SAR 2012-03-11       1090\n",
       "8  101234                A          XYZ 2012-03-13       1142"
      ]
     },
     "execution_count": 201,
     "metadata": {},
     "output_type": "execute_result"
    }
   ],
   "source": [
    "sales_before"
   ]
  },
  {
   "cell_type": "markdown",
   "metadata": {},
   "source": [
    "# How Many product Categories are available?"
   ]
  },
  {
   "cell_type": "code",
   "execution_count": 202,
   "metadata": {},
   "outputs": [
    {
     "data": {
      "text/plain": [
       "Text(0, 0.5, 'Total Number')"
      ]
     },
     "execution_count": 202,
     "metadata": {},
     "output_type": "execute_result"
    },
    {
     "data": {
      "image/png": "[encoded data removed]",
      "text/plain": [
       "<Figure size 432x288 with 1 Axes>"
      ]
     },
     "metadata": {
      "needs_background": "light"
     },
     "output_type": "display_data"
    }
   ],
   "source": [
    "sales_before['Product_Category'].value_counts().plot(kind = 'bar', color = 'green', align = 'center')\n",
    "plt.title(\"Number of Product Categories\")\n",
    "plt.xlabel(\"Product Categories\")\n",
    "plt.ylabel(\"Total Number\")"
   ]
  },
  {
   "cell_type": "markdown",
   "metadata": {},
   "source": [
    "Total Three product Categories are available such as A, B, C. There are 4 products available in A, three in B and two in C. \n",
    "\n"
   ]
  },
  {
   "cell_type": "markdown",
   "metadata": {},
   "source": [
    "# How many products are available?"
   ]
  },
  {
   "cell_type": "code",
   "execution_count": 203,
   "metadata": {},
   "outputs": [
    {
     "data": {
      "text/plain": [
       "Text(0, 0.5, 'Total Number')"
      ]
     },
     "execution_count": 203,
     "metadata": {},
     "output_type": "execute_result"
    },
    {
     "data": {
      "image/png": "[encoded data removed]",
      "text/plain": [
       "<Figure size 432x288 with 1 Axes>"
      ]
     },
     "metadata": {
      "needs_background": "light"
     },
     "output_type": "display_data"
    }
   ],
   "source": [
    "sales_before['Product_Name'].value_counts().plot(kind = 'bar',color = 'green', align = 'center')\n",
    "plt.title(\"Number of Product Available\")\n",
    "plt.xlabel(\"Product Name\")\n",
    "plt.ylabel(\"Total Number\")"
   ]
  },
  {
   "cell_type": "markdown",
   "metadata": {},
   "source": [
    "There are two products, XYZ and SAR. XYZ sold more than SAR"
   ]
  },
  {
   "cell_type": "markdown",
   "metadata": {},
   "source": [
    "# How many products are presented in the each category"
   ]
  },
  {
   "cell_type": "code",
   "execution_count": 204,
   "metadata": {},
   "outputs": [
    {
     "data": {
      "text/plain": [
       "Text(0, 0.5, 'Total Number')"
      ]
     },
     "execution_count": 204,
     "metadata": {},
     "output_type": "execute_result"
    },
    {
     "data": {
      "image/png": "[encoded data removed]",
      "text/plain": [
       "<Figure size 432x288 with 1 Axes>"
      ]
     },
     "metadata": {
      "needs_background": "light"
     },
     "output_type": "display_data"
    }
   ],
   "source": [
    "sales_before.groupby(['Product_Category','Product_Name']).size().unstack().plot(kind='bar',stacked=True)\n",
    "plt.xlabel(\"Product Category\")\n",
    "plt.ylabel(\"Total Number\")"
   ]
  },
  {
   "cell_type": "markdown",
   "metadata": {},
   "source": [
    "# Total Sales - Product Name"
   ]
  },
  {
   "cell_type": "code",
   "execution_count": 205,
   "metadata": {},
   "outputs": [
    {
     "data": {
      "text/html": [
       "<div>\n",
       "<style scoped>\n",
       "    .dataframe tbody tr th:only-of-type {\n",
       "        vertical-align: middle;\n",
       "    }\n",
       "\n",
       "    .dataframe tbody tr th {\n",
       "        vertical-align: top;\n",
       "    }\n",
       "\n",
       "    .dataframe thead th {\n",
       "        text-align: right;\n",
       "    }\n",
       "</style>\n",
       "<table border=\"1\" class=\"dataframe\">\n",
       "  <thead>\n",
       "    <tr style=\"text-align: right;\">\n",
       "      <th></th>\n",
       "      <th>Sales ($)</th>\n",
       "    </tr>\n",
       "    <tr>\n",
       "      <th>Product_Name</th>\n",
       "      <th></th>\n",
       "    </tr>\n",
       "  </thead>\n",
       "  <tbody>\n",
       "    <tr>\n",
       "      <th>SAR</th>\n",
       "      <td>2597</td>\n",
       "    </tr>\n",
       "    <tr>\n",
       "      <th>XYZ</th>\n",
       "      <td>5796</td>\n",
       "    </tr>\n",
       "  </tbody>\n",
       "</table>\n",
       "</div>"
      ],
      "text/plain": [
       "              Sales ($)\n",
       "Product_Name           \n",
       "SAR                2597\n",
       "XYZ                5796"
      ]
     },
     "execution_count": 205,
     "metadata": {},
     "output_type": "execute_result"
    }
   ],
   "source": [
    "sales = sales_before.groupby('Product_Name')['Sales ($)'].sum()\n",
    "sales_category = pd.DataFrame(sales)\n",
    "sales_category"
   ]
  },
  {
   "cell_type": "code",
   "execution_count": 206,
   "metadata": {},
   "outputs": [
    {
     "data": {
      "text/plain": [
       "Text(0, 0.5, 'Sales in USD')"
      ]
     },
     "execution_count": 206,
     "metadata": {},
     "output_type": "execute_result"
    },
    {
     "data": {
      "image/png": "[encoded data removed]",
      "text/plain": [
       "<Figure size 432x288 with 1 Axes>"
      ]
     },
     "metadata": {
      "needs_background": "light"
     },
     "output_type": "display_data"
    }
   ],
   "source": [
    "sales.plot(kind = 'bar', color = 'green', align = 'center')\n",
    "plt.title(\"Product Category Sales\")\n",
    "plt.xlabel(\"Product Name\")\n",
    "plt.ylabel(\"Sales in USD\")"
   ]
  },
  {
   "cell_type": "markdown",
   "metadata": {},
   "source": [
    "Product XYZ has more sales than SAR"
   ]
  },
  {
   "cell_type": "markdown",
   "metadata": {},
   "source": [
    "# Total Sales with respect to Product Category"
   ]
  },
  {
   "cell_type": "code",
   "execution_count": 207,
   "metadata": {},
   "outputs": [
    {
     "data": {
      "text/html": [
       "<div>\n",
       "<style scoped>\n",
       "    .dataframe tbody tr th:only-of-type {\n",
       "        vertical-align: middle;\n",
       "    }\n",
       "\n",
       "    .dataframe tbody tr th {\n",
       "        vertical-align: top;\n",
       "    }\n",
       "\n",
       "    .dataframe thead th {\n",
       "        text-align: right;\n",
       "    }\n",
       "</style>\n",
       "<table border=\"1\" class=\"dataframe\">\n",
       "  <thead>\n",
       "    <tr style=\"text-align: right;\">\n",
       "      <th></th>\n",
       "      <th>Sales ($)</th>\n",
       "    </tr>\n",
       "    <tr>\n",
       "      <th>Product_Category</th>\n",
       "      <th></th>\n",
       "    </tr>\n",
       "  </thead>\n",
       "  <tbody>\n",
       "    <tr>\n",
       "      <th>A</th>\n",
       "      <td>3824</td>\n",
       "    </tr>\n",
       "    <tr>\n",
       "      <th>B</th>\n",
       "      <td>2597</td>\n",
       "    </tr>\n",
       "    <tr>\n",
       "      <th>C</th>\n",
       "      <td>1972</td>\n",
       "    </tr>\n",
       "  </tbody>\n",
       "</table>\n",
       "</div>"
      ],
      "text/plain": [
       "                  Sales ($)\n",
       "Product_Category           \n",
       "A                      3824\n",
       "B                      2597\n",
       "C                      1972"
      ]
     },
     "execution_count": 207,
     "metadata": {},
     "output_type": "execute_result"
    }
   ],
   "source": [
    "sales_category = sales_before.groupby('Product_Category')['Sales ($)'].sum()\n",
    "sales_category = pd.DataFrame(sales_category)\n",
    "sales_category"
   ]
  },
  {
   "cell_type": "code",
   "execution_count": 208,
   "metadata": {},
   "outputs": [
    {
     "data": {
      "text/plain": [
       "Text(0, 0.5, 'Sales in USD')"
      ]
     },
     "execution_count": 208,
     "metadata": {},
     "output_type": "execute_result"
    },
    {
     "data": {
      "image/png": "[encoded data removed]",
      "text/plain": [
       "<Figure size 432x288 with 1 Axes>"
      ]
     },
     "metadata": {
      "needs_background": "light"
     },
     "output_type": "display_data"
    }
   ],
   "source": [
    "sales_category.plot(kind = 'bar', color = 'green', align = 'center')\n",
    "plt.title(\"Product Category Sales\")\n",
    "plt.xlabel(\"Product Category\")\n",
    "plt.ylabel(\"Sales in USD\")"
   ]
  },
  {
   "cell_type": "markdown",
   "metadata": {},
   "source": [
    "Product A cateogry has more sales followed by B and C. It is clear that Product A got more number of products compared to product B and C"
   ]
  },
  {
   "cell_type": "code",
   "execution_count": 209,
   "metadata": {},
   "outputs": [
    {
     "data": {
      "text/plain": [
       "Index(['ID', 'Product_Category', 'Product_Name', 'Sale_Date', 'Sales ($)'], dtype='object')"
      ]
     },
     "execution_count": 209,
     "metadata": {},
     "output_type": "execute_result"
    }
   ],
   "source": [
    "sales_before.columns"
   ]
  },
  {
   "cell_type": "markdown",
   "metadata": {},
   "source": [
    "# Total sales date wise\n",
    "\n"
   ]
  },
  {
   "cell_type": "code",
   "execution_count": 210,
   "metadata": {},
   "outputs": [
    {
     "data": {
      "text/html": [
       "<div>\n",
       "<style scoped>\n",
       "    .dataframe tbody tr th:only-of-type {\n",
       "        vertical-align: middle;\n",
       "    }\n",
       "\n",
       "    .dataframe tbody tr th {\n",
       "        vertical-align: top;\n",
       "    }\n",
       "\n",
       "    .dataframe thead th {\n",
       "        text-align: right;\n",
       "    }\n",
       "</style>\n",
       "<table border=\"1\" class=\"dataframe\">\n",
       "  <thead>\n",
       "    <tr style=\"text-align: right;\">\n",
       "      <th></th>\n",
       "      <th>Sales ($)</th>\n",
       "    </tr>\n",
       "    <tr>\n",
       "      <th>Sale_Date</th>\n",
       "      <th></th>\n",
       "    </tr>\n",
       "  </thead>\n",
       "  <tbody>\n",
       "    <tr>\n",
       "      <th>2012-03-06</th>\n",
       "      <td>1080</td>\n",
       "    </tr>\n",
       "    <tr>\n",
       "      <th>2012-03-07</th>\n",
       "      <td>298</td>\n",
       "    </tr>\n",
       "    <tr>\n",
       "      <th>2012-03-08</th>\n",
       "      <td>565</td>\n",
       "    </tr>\n",
       "    <tr>\n",
       "      <th>2012-03-09</th>\n",
       "      <td>2196</td>\n",
       "    </tr>\n",
       "    <tr>\n",
       "      <th>2012-03-10</th>\n",
       "      <td>1037</td>\n",
       "    </tr>\n",
       "    <tr>\n",
       "      <th>2012-03-11</th>\n",
       "      <td>2075</td>\n",
       "    </tr>\n",
       "    <tr>\n",
       "      <th>2012-03-13</th>\n",
       "      <td>1142</td>\n",
       "    </tr>\n",
       "  </tbody>\n",
       "</table>\n",
       "</div>"
      ],
      "text/plain": [
       "            Sales ($)\n",
       "Sale_Date            \n",
       "2012-03-06       1080\n",
       "2012-03-07        298\n",
       "2012-03-08        565\n",
       "2012-03-09       2196\n",
       "2012-03-10       1037\n",
       "2012-03-11       2075\n",
       "2012-03-13       1142"
      ]
     },
     "execution_count": 210,
     "metadata": {},
     "output_type": "execute_result"
    }
   ],
   "source": [
    "sale_date = sales_before.groupby('Sale_Date')['Sales ($)'].sum()\n",
    "sale_date = pd.DataFrame(sale_date)\n",
    "sale_date"
   ]
  },
  {
   "cell_type": "code",
   "execution_count": 211,
   "metadata": {},
   "outputs": [
    {
     "data": {
      "text/plain": [
       "Text(0, 0.5, 'Sales in USD')"
      ]
     },
     "execution_count": 211,
     "metadata": {},
     "output_type": "execute_result"
    },
    {
     "data": {
      "image/png": "[encoded data removed]",
      "text/plain": [
       "<Figure size 864x720 with 1 Axes>"
      ]
     },
     "metadata": {
      "needs_background": "light"
     },
     "output_type": "display_data"
    }
   ],
   "source": [
    "sales_before.set_index('Sale_Date')['Sales ($)'].plot(figsize=(12, 10), linewidth=2.5, color='maroon')\n",
    "plt.title(\"Daily Sales number\")\n",
    "plt.xlabel(\"Date\")\n",
    "plt.ylabel(\"Sales in USD\")"
   ]
  },
  {
   "cell_type": "markdown",
   "metadata": {},
   "source": [
    "Peak sales on 09.03.2012, followed by 11.03. 07.03 is a least sales"
   ]
  },
  {
   "cell_type": "markdown",
   "metadata": {},
   "source": [
    "# Sales After Campaign"
   ]
  },
  {
   "cell_type": "code",
   "execution_count": 212,
   "metadata": {},
   "outputs": [
    {
     "data": {
      "text/html": [
       "<div>\n",
       "<style scoped>\n",
       "    .dataframe tbody tr th:only-of-type {\n",
       "        vertical-align: middle;\n",
       "    }\n",
       "\n",
       "    .dataframe tbody tr th {\n",
       "        vertical-align: top;\n",
       "    }\n",
       "\n",
       "    .dataframe thead th {\n",
       "        text-align: right;\n",
       "    }\n",
       "</style>\n",
       "<table border=\"1\" class=\"dataframe\">\n",
       "  <thead>\n",
       "    <tr style=\"text-align: right;\">\n",
       "      <th></th>\n",
       "      <th>ID</th>\n",
       "      <th>Product_Category</th>\n",
       "      <th>Product_Name</th>\n",
       "      <th>Sale_Date</th>\n",
       "      <th>Sales ($)</th>\n",
       "    </tr>\n",
       "  </thead>\n",
       "  <tbody>\n",
       "    <tr>\n",
       "      <th>14</th>\n",
       "      <td>123456</td>\n",
       "      <td>A</td>\n",
       "      <td>XYZ</td>\n",
       "      <td>2012-03-26</td>\n",
       "      <td>1169</td>\n",
       "    </tr>\n",
       "    <tr>\n",
       "      <th>15</th>\n",
       "      <td>234567</td>\n",
       "      <td>B</td>\n",
       "      <td>SAR</td>\n",
       "      <td>2012-03-27</td>\n",
       "      <td>398</td>\n",
       "    </tr>\n",
       "    <tr>\n",
       "      <th>16</th>\n",
       "      <td>345678</td>\n",
       "      <td>C</td>\n",
       "      <td>XYZ</td>\n",
       "      <td>2012-03-29</td>\n",
       "      <td>887</td>\n",
       "    </tr>\n",
       "    <tr>\n",
       "      <th>17</th>\n",
       "      <td>456789</td>\n",
       "      <td>A</td>\n",
       "      <td>XYZ</td>\n",
       "      <td>2012-03-28</td>\n",
       "      <td>654</td>\n",
       "    </tr>\n",
       "    <tr>\n",
       "      <th>18</th>\n",
       "      <td>567900</td>\n",
       "      <td>B</td>\n",
       "      <td>SAR</td>\n",
       "      <td>2012-03-29</td>\n",
       "      <td>1309</td>\n",
       "    </tr>\n",
       "    <tr>\n",
       "      <th>19</th>\n",
       "      <td>679011</td>\n",
       "      <td>C</td>\n",
       "      <td>XYZ</td>\n",
       "      <td>2012-03-31</td>\n",
       "      <td>885</td>\n",
       "    </tr>\n",
       "    <tr>\n",
       "      <th>20</th>\n",
       "      <td>790122</td>\n",
       "      <td>A</td>\n",
       "      <td>XYZ</td>\n",
       "      <td>2012-03-30</td>\n",
       "      <td>1126</td>\n",
       "    </tr>\n",
       "    <tr>\n",
       "      <th>21</th>\n",
       "      <td>901233</td>\n",
       "      <td>B</td>\n",
       "      <td>SAR</td>\n",
       "      <td>2012-03-31</td>\n",
       "      <td>1190</td>\n",
       "    </tr>\n",
       "    <tr>\n",
       "      <th>22</th>\n",
       "      <td>101234</td>\n",
       "      <td>A</td>\n",
       "      <td>XYZ</td>\n",
       "      <td>2012-04-02</td>\n",
       "      <td>1042</td>\n",
       "    </tr>\n",
       "  </tbody>\n",
       "</table>\n",
       "</div>"
      ],
      "text/plain": [
       "        ID Product_Category Product_Name  Sale_Date  Sales ($)\n",
       "14  123456                A          XYZ 2012-03-26       1169\n",
       "15  234567                B          SAR 2012-03-27        398\n",
       "16  345678                C          XYZ 2012-03-29        887\n",
       "17  456789                A          XYZ 2012-03-28        654\n",
       "18  567900                B          SAR 2012-03-29       1309\n",
       "19  679011                C          XYZ 2012-03-31        885\n",
       "20  790122                A          XYZ 2012-03-30       1126\n",
       "21  901233                B          SAR 2012-03-31       1190\n",
       "22  101234                A          XYZ 2012-04-02       1042"
      ]
     },
     "execution_count": 212,
     "metadata": {},
     "output_type": "execute_result"
    }
   ],
   "source": [
    "sales_after"
   ]
  },
  {
   "cell_type": "markdown",
   "metadata": {},
   "source": [
    "# Total Product Cateogory Sales after Campaign"
   ]
  },
  {
   "cell_type": "code",
   "execution_count": 213,
   "metadata": {},
   "outputs": [
    {
     "data": {
      "text/html": [
       "<div>\n",
       "<style scoped>\n",
       "    .dataframe tbody tr th:only-of-type {\n",
       "        vertical-align: middle;\n",
       "    }\n",
       "\n",
       "    .dataframe tbody tr th {\n",
       "        vertical-align: top;\n",
       "    }\n",
       "\n",
       "    .dataframe thead th {\n",
       "        text-align: right;\n",
       "    }\n",
       "</style>\n",
       "<table border=\"1\" class=\"dataframe\">\n",
       "  <thead>\n",
       "    <tr style=\"text-align: right;\">\n",
       "      <th></th>\n",
       "      <th>Sales ($)</th>\n",
       "    </tr>\n",
       "    <tr>\n",
       "      <th>Product_Category</th>\n",
       "      <th></th>\n",
       "    </tr>\n",
       "  </thead>\n",
       "  <tbody>\n",
       "    <tr>\n",
       "      <th>A</th>\n",
       "      <td>3991</td>\n",
       "    </tr>\n",
       "    <tr>\n",
       "      <th>B</th>\n",
       "      <td>2897</td>\n",
       "    </tr>\n",
       "    <tr>\n",
       "      <th>C</th>\n",
       "      <td>1772</td>\n",
       "    </tr>\n",
       "  </tbody>\n",
       "</table>\n",
       "</div>"
      ],
      "text/plain": [
       "                  Sales ($)\n",
       "Product_Category           \n",
       "A                      3991\n",
       "B                      2897\n",
       "C                      1772"
      ]
     },
     "execution_count": 213,
     "metadata": {},
     "output_type": "execute_result"
    }
   ],
   "source": [
    "sales_category = sales_after.groupby('Product_Category')['Sales ($)'].sum()\n",
    "sales_category = pd.DataFrame(sales_category)\n",
    "sales_category"
   ]
  },
  {
   "cell_type": "markdown",
   "metadata": {},
   "source": [
    "Sales of Category A and B has increased by 4.36 % & 11.55% after the campaign. Category C sales was down by 10%\n"
   ]
  },
  {
   "cell_type": "code",
   "execution_count": 219,
   "metadata": {},
   "outputs": [
    {
     "data": {
      "text/plain": [
       "Text(0, 0.5, 'Sales in USD')"
      ]
     },
     "execution_count": 219,
     "metadata": {},
     "output_type": "execute_result"
    },
    {
     "data": {
      "image/png": "[encoded data removed]",
      "text/plain": [
       "<Figure size 864x720 with 1 Axes>"
      ]
     },
     "metadata": {
      "needs_background": "light"
     },
     "output_type": "display_data"
    }
   ],
   "source": [
    "sales_category.plot(kind = 'bar', color = 'green',figsize=(12, 10), align = 'center')\n",
    "plt.title(\"Product Category Sales after Campaign\")\n",
    "plt.xlabel(\"Product Category\")\n",
    "plt.ylabel(\"Sales in USD\")"
   ]
  },
  {
   "cell_type": "markdown",
   "metadata": {},
   "source": [
    "# Total Product Sales After Campaign"
   ]
  },
  {
   "cell_type": "code",
   "execution_count": 217,
   "metadata": {},
   "outputs": [
    {
     "data": {
      "text/html": [
       "<div>\n",
       "<style scoped>\n",
       "    .dataframe tbody tr th:only-of-type {\n",
       "        vertical-align: middle;\n",
       "    }\n",
       "\n",
       "    .dataframe tbody tr th {\n",
       "        vertical-align: top;\n",
       "    }\n",
       "\n",
       "    .dataframe thead th {\n",
       "        text-align: right;\n",
       "    }\n",
       "</style>\n",
       "<table border=\"1\" class=\"dataframe\">\n",
       "  <thead>\n",
       "    <tr style=\"text-align: right;\">\n",
       "      <th></th>\n",
       "      <th>Sales ($)</th>\n",
       "    </tr>\n",
       "    <tr>\n",
       "      <th>Product_Name</th>\n",
       "      <th></th>\n",
       "    </tr>\n",
       "  </thead>\n",
       "  <tbody>\n",
       "    <tr>\n",
       "      <th>SAR</th>\n",
       "      <td>2897</td>\n",
       "    </tr>\n",
       "    <tr>\n",
       "      <th>XYZ</th>\n",
       "      <td>5763</td>\n",
       "    </tr>\n",
       "  </tbody>\n",
       "</table>\n",
       "</div>"
      ],
      "text/plain": [
       "              Sales ($)\n",
       "Product_Name           \n",
       "SAR                2897\n",
       "XYZ                5763"
      ]
     },
     "execution_count": 217,
     "metadata": {},
     "output_type": "execute_result"
    }
   ],
   "source": [
    "total_sales = sales_after.groupby('Product_Name')['Sales ($)'].sum()\n",
    "total_sales = pd.DataFrame(total_sales)\n",
    "total_sales\n"
   ]
  },
  {
   "cell_type": "code",
   "execution_count": 222,
   "metadata": {},
   "outputs": [
    {
     "data": {
      "text/plain": [
       "Text(0, 0.5, 'Sales in USD')"
      ]
     },
     "execution_count": 222,
     "metadata": {},
     "output_type": "execute_result"
    },
    {
     "data": {
      "image/png": "[encoded data removed]",
      "text/plain": [
       "<Figure size 432x288 with 1 Axes>"
      ]
     },
     "metadata": {
      "needs_background": "light"
     },
     "output_type": "display_data"
    }
   ],
   "source": [
    "total_sales.plot(kind = 'bar', color = 'green', align = 'center')\n",
    "plt.title(\"Product Sales after Campaign\")\n",
    "plt.xlabel(\"Product Name\")\n",
    "plt.ylabel(\"Sales in USD\")"
   ]
  },
  {
   "cell_type": "markdown",
   "metadata": {},
   "source": [
    "Product XYZ sales has decreased by 0.57% and SAR sales has increased by 11% after Campaign"
   ]
  },
  {
   "cell_type": "code",
   "execution_count": null,
   "metadata": {},
   "outputs": [],
   "source": []
  }
 ],
 "metadata": {
  "kernelspec": {
   "display_name": "Python 3",
   "language": "python",
   "name": "python3"
  },
  "language_info": {
   "codemirror_mode": {
    "name": "ipython",
    "version": 3
   },
   "file_extension": ".py",
   "mimetype": "text/x-python",
   "name": "python",
   "nbconvert_exporter": "python",
   "pygments_lexer": "ipython3",
   "version": "3.7.3"
  }
 },
 "nbformat": 4,
 "nbformat_minor": 2
}
